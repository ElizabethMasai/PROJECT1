{
 "cells": [
  {
   "cell_type": "markdown",
   "metadata": {},
   "source": [
    "\n"
   ]
  },
  {
   "cell_type": "markdown",
   "metadata": {},
   "source": [
    "a)Business Overview\n",
    "\n",
    "Microsoft wants to venture into the movie industry by setting up a new movie studio,with a primary goal of gaining vast knowledge and understanding of the current market so as to make sound decisions in film production.The project therefore explores the film production industry and analyses the information into actionable insight."
   ]
  },
  {
   "cell_type": "markdown",
   "metadata": {},
   "source": [
    "b)Business Understanding\n",
    "\n",
    "Microsoft aims at establishing a new movie shop .The goal is to gain knowledge on the current market trends in the successful and well established movies at the box office to help in deciding on the types of movies to produce.The project also addresses key questions such as the genres that perform well at the box office and also if there are specific topics that resonate with the audience."
   ]
  },
  {
   "cell_type": "markdown",
   "metadata": {},
   "source": [
    "c)Data Understanding\n",
    "\n",
    "This project makes use of data from a local file\n",
    "\n"
   ]
  },
  {
   "cell_type": "code",
   "execution_count": 8,
   "metadata": {},
   "outputs": [],
   "source": [
    "#Imorts includes the following\n",
    "\n",
    "import pandas as pd\n",
    "import numpy as np\n",
    "\n"
   ]
  },
  {
   "cell_type": "code",
   "execution_count": 9,
   "metadata": {},
   "outputs": [
    {
     "ename": "SyntaxError",
     "evalue": "(unicode error) 'unicodeescape' codec can't decode bytes in position 2-3: truncated \\UXXXXXXXX escape (1888459412.py, line 1)",
     "output_type": "error",
     "traceback": [
      "\u001b[1;36m  Cell \u001b[1;32mIn[9], line 1\u001b[1;36m\u001b[0m\n\u001b[1;33m    csv_file_path= \"C:\\Users\\USER\\Desktop\\PROJECT1\\tmdb.movies.csv\"\u001b[0m\n\u001b[1;37m                                                                   ^\u001b[0m\n\u001b[1;31mSyntaxError\u001b[0m\u001b[1;31m:\u001b[0m (unicode error) 'unicodeescape' codec can't decode bytes in position 2-3: truncated \\UXXXXXXXX escape\n"
     ]
    }
   ],
   "source": [
    "csv_file_path= \"C:\\Users\\USER\\Desktop\\PROJECT1\\tmdb.movies.csv\"\n"
   ]
  },
  {
   "cell_type": "code",
   "execution_count": null,
   "metadata": {},
   "outputs": [],
   "source": []
  }
 ],
 "metadata": {
  "kernelspec": {
   "display_name": "Python 3 (ipykernel)",
   "language": "python",
   "name": "python3"
  },
  "language_info": {
   "codemirror_mode": {
    "name": "ipython",
    "version": 3
   },
   "file_extension": ".py",
   "mimetype": "text/x-python",
   "name": "python",
   "nbconvert_exporter": "python",
   "pygments_lexer": "ipython3",
   "version": "3.11.5"
  }
 },
 "nbformat": 4,
 "nbformat_minor": 2
}
